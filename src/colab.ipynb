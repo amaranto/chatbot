{
 "cells": [
  {
   "cell_type": "markdown",
   "metadata": {},
   "source": [
    "### Clonning source code"
   ]
  },
  {
   "cell_type": "code",
   "execution_count": null,
   "metadata": {},
   "outputs": [],
   "source": [
    "! git clone https://github.com/amaranto/chatbot"
   ]
  },
  {
   "cell_type": "markdown",
   "metadata": {},
   "source": [
    "### Mounting ChromaDB"
   ]
  },
  {
   "cell_type": "code",
   "execution_count": null,
   "metadata": {},
   "outputs": [],
   "source": [
    "# libraries for the files in google drive\n",
    "from pydrive.auth import GoogleAuth\n",
    "from google.colab import drive\n",
    "from pydrive.drive import GoogleDrive\n",
    "from google.colab import auth\n",
    "from oauth2client.client import GoogleCredentials\n",
    "\n",
    "auth.authenticate_user()\n",
    "gauth = GoogleAuth()\n",
    "gauth.credentials = GoogleCredentials.get_application_default()\n",
    "drive = GoogleDrive(gauth)\n",
    "\n",
    "chromdb = '17BDr1-JGtNqtuqZOoX3voDQ7Fdh4pU2g' \n",
    "csv = '1W8h5b7c9J-ZiaR46fmp7-jT31BC8cGWv'\n",
    "\n",
    "download = drive.CreateFile({'id': chromdb})\n",
    "download.GetContentFile('chatbot/src/data/')\n",
    "\n",
    "download = drive.CreateFile({'id': csv})\n",
    "download.GetContentFile('chatbot/src/data/')"
   ]
  },
  {
   "cell_type": "markdown",
   "metadata": {},
   "source": [
    "### Install requirements"
   ]
  },
  {
   "cell_type": "code",
   "execution_count": null,
   "metadata": {},
   "outputs": [],
   "source": [
    "! pip install -r chatbot/requirements.txt"
   ]
  },
  {
   "cell_type": "markdown",
   "metadata": {},
   "source": [
    "### Set Hugging Face\n",
    "\n",
    "If you want to use hugging face to run generator model you can set HFACE_TOKEN environment var in next step.\n",
    "If it is not defined, it will colab cpu or gpu if it is available "
   ]
  },
  {
   "cell_type": "code",
   "execution_count": null,
   "metadata": {},
   "outputs": [],
   "source": [
    "! #export HFACE_TOKEN='YOURTOKENHERE'\n",
    "! export ENV='colab'"
   ]
  },
  {
   "cell_type": "markdown",
   "metadata": {},
   "source": [
    "### Example to use ChromaManager\n",
    "Using chromadb already copied in previous step.\n",
    "You can point to a remote chroma db if you want providing url, port and password.\n",
    "In addition, there is Chroma docker file to build in your local for local development.\n",
    "\n",
    "gen_vector_db.py is an example about how to generate a chroma collection for this bot."
   ]
  },
  {
   "cell_type": "code",
   "execution_count": null,
   "metadata": {},
   "outputs": [],
   "source": [
    "! cd chatbot/src && python3 gen_vector_db.py"
   ]
  },
  {
   "cell_type": "markdown",
   "metadata": {},
   "source": [
    "### Example of chatbot usage\n",
    "chat.py is an example about how to use ChatBot module.\n",
    "\n",
    "It requires a ChromaManager db class to work in order to search for embeddings to generate context about specific topics.\n",
    "In this example we will be using the local chroma db cloned with the repository.\n",
    "But you point ChromaManager to an external database with another topics.\n"
   ]
  },
  {
   "cell_type": "code",
   "execution_count": null,
   "metadata": {},
   "outputs": [],
   "source": [
    "! cd chatbot/src && python3 chat.py"
   ]
  },
  {
   "cell_type": "code",
   "execution_count": null,
   "metadata": {},
   "outputs": [],
   "source": []
  }
 ],
 "metadata": {
  "language_info": {
   "name": "python"
  }
 },
 "nbformat": 4,
 "nbformat_minor": 2
}
